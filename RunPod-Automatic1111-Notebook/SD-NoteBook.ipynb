{
 "cells": [
  {
   "cell_type": "markdown",
   "id": "c923b677-d315-4da1-b5c4-1eb824b6c1d8",
   "metadata": {
    "tags": []
   },
   "source": [
    "### System Checks"
   ]
  },
  {
   "cell_type": "markdown",
   "id": "cb9c5ff8-5271-4f87-a3dd-4b5672ae7693",
   "metadata": {
    "tags": []
   },
   "source": [
    "#### Check Nvidia GPU info"
   ]
  },
  {
   "cell_type": "code",
   "execution_count": null,
   "id": "523d70c3-0977-4559-9683-a96c87a69561",
   "metadata": {
    "scrolled": true,
    "tags": []
   },
   "outputs": [],
   "source": [
    "gpu_info = !nvidia-smi\n",
    "gpu_info = '\\n'.join(gpu_info)\n",
    "if gpu_info.find('failed') >= 0:\n",
    "  print('Not connected to a GPU')\n",
    "else:\n",
    "  !echo \"+-----------------------------------------------------------------------------+\"\n",
    "  !nvidia-smi -L\n",
    "  !echo \"+-----------------------------------------------------------------------------+\""
   ]
  },
  {
   "cell_type": "markdown",
   "id": "28edf1a8-8de7-4d3c-995b-3ef613025c18",
   "metadata": {
    "tags": []
   },
   "source": [
    "#### Check how much RAM is assigned"
   ]
  },
  {
   "cell_type": "code",
   "execution_count": null,
   "id": "6188d905-8859-4839-8d9d-c0def02633ba",
   "metadata": {
    "scrolled": true
   },
   "outputs": [],
   "source": [
    "from psutil import virtual_memory\n",
    "ram_gb = virtual_memory().total / 1e9\n",
    "print('Your runtime has {:.1f} gigabytes of available RAM\\n'.format(ram_gb))"
   ]
  },
  {
   "cell_type": "markdown",
   "id": "762480a1-9820-4a7b-9cf2-5c151c47fd96",
   "metadata": {
    "tags": []
   },
   "source": [
    "### Automatic1111 Install"
   ]
  },
  {
   "cell_type": "markdown",
   "id": "ff246584",
   "metadata": {},
   "source": [
    "This section is purely used to install all dependancies for Automatic1111 GUI"
   ]
  },
  {
   "cell_type": "code",
   "execution_count": null,
   "id": "817f6e83-9eda-4123-9a43-a409714a4cd9",
   "metadata": {
    "scrolled": true
   },
   "outputs": [],
   "source": [
    "#@title Automatic1111 repo\n",
    "!python -m pip install --upgrade pip\n",
    "%cd /workspace\n",
    "!git clone https://github.com/AUTOMATIC1111/stable-diffusion-webui\n",
    "%cd stable-diffusion-webui\n",
    "!COMMANDLINE_ARGS=\"--exit\" REQS_FILE=\"requirements.txt\" python launch.py\n",
    "!git clone https://github.com/AUTOMATIC1111/stable-diffusion-webui-aesthetic-gradients extensions/aesthetic-gradients"
   ]
  },
  {
   "cell_type": "markdown",
   "id": "1e33bb93",
   "metadata": {},
   "source": [
    "### Model Downloads\n",
    "\n",
    "At least one of the below Stable Diffusion models are required. "
   ]
  },
  {
   "cell_type": "markdown",
   "id": "c92ba7cb",
   "metadata": {},
   "source": [
    "Get your auth token from (https://huggingface.co/settings/tokens)\n",
    "(a free account is needed)"
   ]
  },
  {
   "cell_type": "code",
   "execution_count": null,
   "id": "67189517",
   "metadata": {},
   "outputs": [],
   "source": [
    "hugging_token=\"Paste TOKEN here\""
   ]
  },
  {
   "cell_type": "markdown",
   "id": "b821c0ff",
   "metadata": {},
   "source": [
    "#### Stable Diffusion Model v1.5 Pruned Ema Only\n",
    "4.27gb\n",
    "This is most likely the one you want. "
   ]
  },
  {
   "cell_type": "code",
   "execution_count": null,
   "id": "996bf378",
   "metadata": {},
   "outputs": [],
   "source": [
    "!wget --quiet --show-progress --header=\"Authorization: Bearer {hugging_token}\" https://huggingface.co/runwayml/stable-diffusion-v1-5/resolve/main/v1-5-pruned-emaonly.ckpt -O /workspace/stable-diffusion-webui/models/Stable-diffusion/v1-5-pruned-emaonly.ckpt"
   ]
  },
  {
   "cell_type": "markdown",
   "id": "fd444ec0",
   "metadata": {},
   "source": [
    "#### Stable Diffusion Model 1.5 PRUNED\n",
    "7.7gb - Used for training"
   ]
  },
  {
   "cell_type": "code",
   "execution_count": null,
   "id": "7e8464d0",
   "metadata": {},
   "outputs": [],
   "source": [
    "!wget --quiet --show-progress --header=\"Authorization: Bearer {hugging_token}\" https://huggingface.co/runwayml/stable-diffusion-v1-5/resolve/main/v1-5-pruned.ckpt -O /workspace/stable-diffusion-webui/models/Stable-diffusion/v1-5-pruned.ckpt"
   ]
  },
  {
   "cell_type": "markdown",
   "id": "35f65edf",
   "metadata": {},
   "source": [
    "#### Stable Diffusion Model 1.5 Inpainting Model"
   ]
  },
  {
   "cell_type": "code",
   "execution_count": null,
   "id": "e4b37530",
   "metadata": {},
   "outputs": [],
   "source": [
    "!wget --quiet --show-progress --header=\"Authorization: Bearer {hugging_token}\" https://huggingface.co/runwayml/stable-diffusion-inpainting/resolve/main/sd-v1-5-inpainting.ckpt -O /workspace/stable-diffusion-webui/models/Stable-diffusion/sd-v1-5-inpainting.ckpt"
   ]
  },
  {
   "cell_type": "markdown",
   "id": "22528856",
   "metadata": {},
   "source": [
    "#### Stable Diffusion Model 1.4 PRUNED\n",
    "4.27gb"
   ]
  },
  {
   "cell_type": "code",
   "execution_count": null,
   "id": "7a0baa64",
   "metadata": {},
   "outputs": [],
   "source": [
    "!wget --quiet --show-progress --header=\"Authorization: Bearer {hugging_token}\" https://huggingface.co/CompVis/stable-diffusion-v-1-4-original/resolve/main/sd-v1-4.ckpt -O /workspace/stable-diffusion-webui/models/Stable-diffusion/model.ckpt"
   ]
  },
  {
   "cell_type": "markdown",
   "id": "68525d1c",
   "metadata": {},
   "source": [
    "#### Stable Diffusion Model 1.4 FULL\n",
    "7.7gb"
   ]
  },
  {
   "cell_type": "code",
   "execution_count": null,
   "id": "d413644d",
   "metadata": {},
   "outputs": [],
   "source": [
    "!wget --quiet --show-progress --header=\"Authorization: Bearer {hugging_token}\" https://huggingface.co/CompVis/stable-diffusion-v-1-4-original/resolve/main/sd-v1-4-full-ema.ckpt -O /workspace/stable-diffusion-webui/models/Stable-diffusion/model-full.ckpt"
   ]
  },
  {
   "cell_type": "markdown",
   "id": "e3b4b6c9",
   "metadata": {},
   "source": [
    "#### Waifu Diffusion 1.3 FULL - Optional\n",
    "7.7gb"
   ]
  },
  {
   "cell_type": "code",
   "execution_count": null,
   "id": "46866348",
   "metadata": {},
   "outputs": [],
   "source": [
    "!wget --quiet --show-progress --header=\"Authorization: Bearer {hugging_token}\" https://huggingface.co/hakurei/waifu-diffusion-v1-3/resolve/main/wd-v1-3-full.ckpt -O /workspace/stable-diffusion-webui/models/Stable-diffusion/waifu-v1-3-full.ckpt"
   ]
  },
  {
   "cell_type": "markdown",
   "id": "6796de35",
   "metadata": {},
   "source": [
    "### Web based File Browser\n",
    "A web based file browser is running\n",
    "\n",
    "username is runpod\n",
    "\n",
    "password is the same used to access JupyterLab (Environment variable `$JUPYTER_PASSWORD`)\n",
    "\n",
    "Go to Runpod and Click connect - select port 8000"
   ]
  },
  {
   "cell_type": "markdown",
   "id": "6b079b5d",
   "metadata": {},
   "source": [
    "### Use NGROK instead of Bore\n",
    "This is generally more reliable, although blocked in some corporate offices.\n",
    "\n",
    "Get an NGROK auth token from https://dashboard.ngrok.com/get-started/your-authtoken\n",
    "\n",
    "Account sign up is free\n",
    "Replace `NGROK_AUTH_TOKEN` with your AUTH Token"
   ]
  },
  {
   "cell_type": "code",
   "execution_count": null,
   "id": "779e6c3a",
   "metadata": {},
   "outputs": [],
   "source": [
    "!pkill bore\n",
    "from pyngrok import ngrok\n",
    "ngrok.set_auth_token(\"NGROK_AUTH_TOKEN\")\n",
    "ngrok.kill()\n",
    "http_tunnel = ngrok.connect(6956,\"http\")\n",
    "print(http_tunnel)"
   ]
  },
  {
   "cell_type": "markdown",
   "id": "999d436c-7bb0-44ae-8704-9575b4a0267c",
   "metadata": {},
   "source": [
    "### Launch WebUI"
   ]
  },
  {
   "cell_type": "markdown",
   "id": "1951744d",
   "metadata": {},
   "source": [
    "change \"username:password\" to your desired values\n",
    "\n",
    "i.e run:pod"
   ]
  },
  {
   "cell_type": "code",
   "execution_count": null,
   "id": "f6a0fb7c-f873-4e97-869b-260a1fe07e0e",
   "metadata": {
    "scrolled": true,
    "tags": []
   },
   "outputs": [],
   "source": [
    "%cd /workspace/stable-diffusion-webui\n",
    "!git pull\n",
    "print(\"\\033[92mOnly IF Using BORE webUI has loaded go to bore.pub:XXXXX url printed below \")\n",
    "!echo\n",
    "!cat /workspace/bore.log | grep bore.pub:\n",
    "!echo\n",
    "!COMMANDLINE_ARGS=\"--listen --port 6956 --gradio-auth username:password --deepdanbooru\" REQS_FILE=\"requirements.txt\" python /workspace/stable-diffusion-webui/launch.py"
   ]
  },
  {
   "cell_type": "markdown",
   "id": "480d1b0b-42fa-46e1-8f40-27c1dd45f12f",
   "metadata": {},
   "source": [
    "#### (RUNPODCTL) Back up files to Drive - go to https://colab.research.google.com/drive/18QPMg6Ei9f70-rFcydivQEErGYYBoV65"
   ]
  },
  {
   "cell_type": "markdown",
   "id": "4cfda146",
   "metadata": {},
   "source": [
    "Change $RP_API to your RunPod api key"
   ]
  },
  {
   "cell_type": "code",
   "execution_count": null,
   "id": "170b8f90",
   "metadata": {},
   "outputs": [],
   "source": [
    "!echo \"Downloading runpodctl Binary...\"\n",
    "!wget --quiet https://github.com/Run-Pod/runpodctl/releases/download/v1.6.1/runpodctl-linux-amd -O runpodctl\n",
    "!chmod +x runpodctl\n",
    "!mv runpodctl /usr/bin/runpodctl\n",
    "!runpodctl config --apiKey=$RP_API"
   ]
  },
  {
   "cell_type": "code",
   "execution_count": null,
   "id": "346fc24c-9f8e-40ff-95c2-afaa58d36958",
   "metadata": {
    "scrolled": true
   },
   "outputs": [],
   "source": [
    "!echo \"Go to Google Colab to receive files.\"\n",
    "!runpodctl send /workspace/stable-diffusion-webui/config.json"
   ]
  },
  {
   "cell_type": "code",
   "execution_count": null,
   "id": "fcdfb7d5-b1b0-4e5a-ba31-20d276487ce5",
   "metadata": {
    "scrolled": true
   },
   "outputs": [],
   "source": [
    "!echo \"Go to Google Colab to receive files.\"\n",
    "!runpodctl send /workspace/stable-diffusion-webui/ui-config.json"
   ]
  },
  {
   "cell_type": "code",
   "execution_count": null,
   "id": "0f29da25-2d02-43bd-bad7-3af76bfb4412",
   "metadata": {},
   "outputs": [],
   "source": [
    "!echo \"Go to Google Colab to receive files.\"\n",
    "!runpodctl send /workspace/stable-diffusion-webui/styles.csv"
   ]
  },
  {
   "cell_type": "code",
   "execution_count": null,
   "id": "1cff83ef-d44b-43ee-9c84-3dff0c42eb1c",
   "metadata": {},
   "outputs": [],
   "source": [
    "!echo \"Go to Google Colab to receive files.\"\n",
    "!runpodctl send /workspace/stable-diffusion-webui/outputs"
   ]
  },
  {
   "cell_type": "markdown",
   "id": "9a6c36cb-647a-4276-82fa-a6ed224062d2",
   "metadata": {},
   "source": [
    "#### (GDrive) Back up files to Drive\n",
    "Open terminal and run the command `gdrive about` \n",
    "\n",
    "Follow instructions to auth"
   ]
  },
  {
   "cell_type": "code",
   "execution_count": null,
   "id": "9c3cdbaf-209e-4ebf-9988-e724d6da0c49",
   "metadata": {},
   "outputs": [],
   "source": [
    "!gdrive upload /workspace/stable-diffusion-webui/config.json\n",
    "!gdrive upload /workspace/stable-diffusion-webui/ui-config.json\n",
    "!gdrive upload /workspace/stable-diffusion-webui/styles.csv"
   ]
  },
  {
   "cell_type": "code",
   "execution_count": null,
   "id": "175269ee-3dcf-49d6-b92f-c71cdc130c8f",
   "metadata": {},
   "outputs": [],
   "source": [
    "!gdrive upload /workspace/stable-diffusion-webui/outputs --recursive "
   ]
  }
 ],
 "metadata": {
  "kernelspec": {
   "display_name": "Python 3.10.7 64-bit",
   "language": "python",
   "name": "python3"
  },
  "language_info": {
   "codemirror_mode": {
    "name": "ipython",
    "version": 3
   },
   "file_extension": ".py",
   "mimetype": "text/x-python",
   "name": "python",
   "nbconvert_exporter": "python",
   "pygments_lexer": "ipython3",
   "version": "3.10.7"
  },
  "vscode": {
   "interpreter": {
    "hash": "369f2c481f4da34e4445cda3fffd2e751bd1c4d706f27375911949ba6bb62e1c"
   }
  }
 },
 "nbformat": 4,
 "nbformat_minor": 5
}
